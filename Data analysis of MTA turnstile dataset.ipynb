{
 "cells": [
  {
   "cell_type": "code",
   "execution_count": 2,
   "metadata": {
    "collapsed": true
   },
   "outputs": [],
   "source": [
    "from IPython.display import HTML\n",
    "import numpy as np\n",
    "import urllib3\n",
    "from bs4 import BeautifulSoup as soup \n",
    "import pandas as pd\n",
    "\n",
    "import matplotlib\n",
    "import matplotlib.pyplot as plt\n",
    "%matplotlib inline\n",
    "\n",
    "import seaborn as sns\n",
    "sns.set_context(\"talk\")\n",
    "sns.set_style(\"white\")"
   ]
  },
  {
   "cell_type": "markdown",
   "metadata": {},
   "source": [
    "# Part I - Extraction of data from MTA's website\n",
    "## Let's scraping the MTA website to get all the URLs that have weekly turnstile data in txt format"
   ]
  },
  {
   "cell_type": "code",
   "execution_count": 159,
   "metadata": {
    "collapsed": true
   },
   "outputs": [],
   "source": [
    "url = 'http://web.mta.info/developers/turnstile.html'\n",
    "manager = urllib3.PoolManager()\n",
    "response = manager.request('GET', url)"
   ]
  },
  {
   "cell_type": "code",
   "execution_count": 160,
   "metadata": {
    "scrolled": true
   },
   "outputs": [],
   "source": [
    "#store the html page code\n",
    "html = soup(response.data, 'html.parser')"
   ]
  },
  {
   "cell_type": "code",
   "execution_count": 161,
   "metadata": {},
   "outputs": [
    {
     "data": {
      "text/plain": [
       "<title>mta.info | Turnstile Data</title>"
      ]
     },
     "execution_count": 161,
     "metadata": {},
     "output_type": "execute_result"
    }
   ],
   "source": [
    "#let's check if we can access HTML tags ad the data\n",
    "html.head.title"
   ]
  },
  {
   "cell_type": "code",
   "execution_count": 162,
   "metadata": {
    "collapsed": true
   },
   "outputs": [],
   "source": [
    "#the URLs are in a div with class=span-84 last\n",
    "#storing the div\n",
    "data_files = html.find_all('div', {'class':'span-84 last'})"
   ]
  },
  {
   "cell_type": "code",
   "execution_count": 166,
   "metadata": {},
   "outputs": [
    {
     "data": {
      "text/plain": [
       "[<a href=\"data/nyct/turnstile/turnstile_180310.txt\">Saturday, March 10, 2018</a>,\n",
       " <a href=\"data/nyct/turnstile/turnstile_180303.txt\">Saturday, March 03, 2018</a>,\n",
       " <a href=\"data/nyct/turnstile/turnstile_180224.txt\">Saturday, February 24, 2018</a>,\n",
       " <a href=\"data/nyct/turnstile/turnstile_180217.txt\">Saturday, February 17, 2018</a>,\n",
       " <a href=\"data/nyct/turnstile/turnstile_180210.txt\">Saturday, February 10, 2018</a>,\n",
       " <a href=\"data/nyct/turnstile/turnstile_180203.txt\">Saturday, February 03, 2018</a>,\n",
       " <a href=\"data/nyct/turnstile/turnstile_180127.txt\">Saturday, January 27, 2018</a>,\n",
       " <a href=\"data/nyct/turnstile/turnstile_180120.txt\">Saturday, January 20, 2018</a>,\n",
       " <a href=\"data/nyct/turnstile/turnstile_180113.txt\">Saturday, January 13, 2018</a>,\n",
       " <a href=\"data/nyct/turnstile/turnstile_180106.txt\">Saturday, January 06, 2018</a>]"
      ]
     },
     "execution_count": 166,
     "metadata": {},
     "output_type": "execute_result"
    }
   ],
   "source": [
    "#get all anchor tags which have the URLs\n",
    "data_files[0].find_all('a')[:10]"
   ]
  },
  {
   "cell_type": "markdown",
   "metadata": {},
   "source": [
    "#### Store all the URLs in list"
   ]
  },
  {
   "cell_type": "code",
   "execution_count": 168,
   "metadata": {
    "collapsed": true
   },
   "outputs": [],
   "source": [
    "list_of_urls = []\n",
    "for elem in data_files[0].find_all('a'):\n",
    "    list_of_urls.append(elem.get('href'))"
   ]
  },
  {
   "cell_type": "code",
   "execution_count": 169,
   "metadata": {},
   "outputs": [
    {
     "data": {
      "text/plain": [
       "['data/nyct/turnstile/turnstile_180310.txt',\n",
       " 'data/nyct/turnstile/turnstile_180303.txt',\n",
       " 'data/nyct/turnstile/turnstile_180224.txt',\n",
       " 'data/nyct/turnstile/turnstile_180217.txt',\n",
       " 'data/nyct/turnstile/turnstile_180210.txt']"
      ]
     },
     "execution_count": 169,
     "metadata": {},
     "output_type": "execute_result"
    }
   ],
   "source": [
    "list_of_urls[:5]"
   ]
  },
  {
   "cell_type": "markdown",
   "metadata": {},
   "source": [
    "## Time to create a dataframe using above URLs\n",
    "### Our analysis is only going to focus on year 2017. So we need to get the URLs for year 2017 and create a DataFrame"
   ]
  },
  {
   "cell_type": "code",
   "execution_count": 15,
   "metadata": {},
   "outputs": [
    {
     "name": "stdout",
     "output_type": "stream",
     "text": [
      "data/nyct/turnstile/turnstile_180310.txt \n",
      "length is 40\n"
     ]
    }
   ],
   "source": [
    "print(list_of_urls[0], \"\\nlength is\", len(list_of_urls[0]))"
   ]
  },
  {
   "cell_type": "code",
   "execution_count": 20,
   "metadata": {},
   "outputs": [
    {
     "data": {
      "text/plain": [
       "'18'"
      ]
     },
     "execution_count": 20,
     "metadata": {},
     "output_type": "execute_result"
    }
   ],
   "source": [
    "list_of_urls[0][30:32]"
   ]
  },
  {
   "cell_type": "markdown",
   "metadata": {},
   "source": [
    "#### So we need to grab the characters at index 30 & 31 to get the year"
   ]
  },
  {
   "cell_type": "code",
   "execution_count": 23,
   "metadata": {},
   "outputs": [],
   "source": [
    "year_2017 = list()"
   ]
  },
  {
   "cell_type": "code",
   "execution_count": 26,
   "metadata": {},
   "outputs": [],
   "source": [
    "for item in list_of_urls:\n",
    "    if item[30:32] == '17':\n",
    "        year_2017.append(item)\n"
   ]
  },
  {
   "cell_type": "code",
   "execution_count": 28,
   "metadata": {},
   "outputs": [
    {
     "data": {
      "text/plain": [
       "52"
      ]
     },
     "execution_count": 28,
     "metadata": {},
     "output_type": "execute_result"
    }
   ],
   "source": [
    "len(year_2017)"
   ]
  },
  {
   "cell_type": "code",
   "execution_count": 29,
   "metadata": {},
   "outputs": [
    {
     "data": {
      "text/plain": [
       "'http://web.mta.info/developers/data/nyct/turnstile/turnstile_171230.txt'"
      ]
     },
     "execution_count": 29,
     "metadata": {},
     "output_type": "execute_result"
    }
   ],
   "source": [
    "base_url = \"http://web.mta.info/developers/\"\n",
    "base_url+year_2017[0]"
   ]
  },
  {
   "cell_type": "code",
   "execution_count": 32,
   "metadata": {},
   "outputs": [
    {
     "name": "stdout",
     "output_type": "stream",
     "text": [
      "Done with week 52\n",
      "Done with week 51\n",
      "Done with week 50\n",
      "Done with week 49\n",
      "Done with week 48\n",
      "Done with week 47\n",
      "Done with week 46\n",
      "Done with week 45\n",
      "Done with week 44\n",
      "Done with week 43\n",
      "Done with week 42\n",
      "Done with week 41\n",
      "Done with week 40\n",
      "Done with week 39\n",
      "Done with week 38\n",
      "Done with week 37\n",
      "Done with week 36\n",
      "Done with week 35\n",
      "Done with week 34\n",
      "Done with week 33\n",
      "Done with week 32\n",
      "Done with week 31\n",
      "Done with week 30\n",
      "Done with week 29\n",
      "Done with week 28\n",
      "Done with week 27\n",
      "Done with week 26\n",
      "Done with week 25\n",
      "Done with week 24\n",
      "Done with week 23\n",
      "Done with week 22\n",
      "Done with week 21\n",
      "Done with week 20\n",
      "Done with week 19\n",
      "Done with week 18\n",
      "Done with week 17\n",
      "Done with week 16\n",
      "Done with week 15\n",
      "Done with week 14\n",
      "Done with week 13\n",
      "Done with week 12\n",
      "Done with week 11\n",
      "Done with week 10\n",
      "Done with week 9\n",
      "Done with week 8\n",
      "Done with week 7\n",
      "Done with week 6\n",
      "Done with week 5\n",
      "Done with week 4\n",
      "Done with week 3\n",
      "Done with week 2\n",
      "Done with week 1\n"
     ]
    }
   ],
   "source": [
    "mta = pd.DataFrame()\n",
    "countdown = len(year_2017) + 1\n",
    "\n",
    "for i in year_2017:\n",
    "    temp = pd.read_csv(base_url+i)\n",
    "    mta = mta.append(temp, ignore_index=True) #appending will result in index getting repeated and hence they need to be ignored\n",
    "    countdown = countdown - 1\n",
    "    print(\"Done with week\",countdown)"
   ]
  },
  {
   "cell_type": "code",
   "execution_count": 33,
   "metadata": {},
   "outputs": [
    {
     "data": {
      "text/plain": [
       "(10258959, 11)"
      ]
     },
     "execution_count": 33,
     "metadata": {},
     "output_type": "execute_result"
    }
   ],
   "source": [
    "mta.shape"
   ]
  },
  {
   "cell_type": "code",
   "execution_count": 34,
   "metadata": {
    "scrolled": false
   },
   "outputs": [
    {
     "name": "stdout",
     "output_type": "stream",
     "text": [
      "<class 'pandas.core.frame.DataFrame'>\n",
      "RangeIndex: 10258959 entries, 0 to 10258958\n",
      "Data columns (total 11 columns):\n",
      "C/A                                                                     object\n",
      "UNIT                                                                    object\n",
      "SCP                                                                     object\n",
      "STATION                                                                 object\n",
      "LINENAME                                                                object\n",
      "DIVISION                                                                object\n",
      "DATE                                                                    object\n",
      "TIME                                                                    object\n",
      "DESC                                                                    object\n",
      "ENTRIES                                                                 int64\n",
      "EXITS                                                                   int64\n",
      "dtypes: int64(2), object(9)\n",
      "memory usage: 861.0+ MB\n"
     ]
    }
   ],
   "source": [
    "mta.info()"
   ]
  },
  {
   "cell_type": "markdown",
   "metadata": {},
   "source": [
    "We need to change DATE attribute's datatype to date time"
   ]
  },
  {
   "cell_type": "code",
   "execution_count": 42,
   "metadata": {
    "collapsed": true
   },
   "outputs": [],
   "source": [
    "mta[\"DATE\"] = pd.to_datetime(mta[\"DATE\"])"
   ]
  },
  {
   "cell_type": "code",
   "execution_count": 45,
   "metadata": {},
   "outputs": [
    {
     "data": {
      "text/plain": [
       "C/A                 object\n",
       "UNIT                object\n",
       "SCP                 object\n",
       "STATION             object\n",
       "LINENAME            object\n",
       "DIVISION            object\n",
       "DATE        datetime64[ns]\n",
       "TIME                object\n",
       "DESC                object\n",
       "ENTRIES              int64\n",
       "EXITS                int64\n",
       "dtype: object"
      ]
     },
     "execution_count": 45,
     "metadata": {},
     "output_type": "execute_result"
    }
   ],
   "source": [
    "mta.dtypes"
   ]
  },
  {
   "cell_type": "code",
   "execution_count": 37,
   "metadata": {},
   "outputs": [
    {
     "data": {
      "text/plain": [
       "Index(['C/A', 'UNIT', 'SCP', 'STATION', 'LINENAME', 'DIVISION', 'DATE', 'TIME',\n",
       "       'DESC', 'ENTRIES',\n",
       "       'EXITS                                                               '],\n",
       "      dtype='object')"
      ]
     },
     "execution_count": 37,
     "metadata": {},
     "output_type": "execute_result"
    }
   ],
   "source": [
    "mta.columns"
   ]
  },
  {
   "cell_type": "markdown",
   "metadata": {},
   "source": [
    "### So there are trailing spaces in EXITS column... We'll rename it."
   ]
  },
  {
   "cell_type": "code",
   "execution_count": 38,
   "metadata": {
    "collapsed": true,
    "scrolled": true
   },
   "outputs": [],
   "source": [
    "mta.rename(columns={'EXITS                                                               ':'EXITS'}, inplace=True)"
   ]
  },
  {
   "cell_type": "code",
   "execution_count": 46,
   "metadata": {},
   "outputs": [
    {
     "data": {
      "text/plain": [
       "Index(['C/A', 'UNIT', 'SCP', 'STATION', 'LINENAME', 'DIVISION', 'DATE', 'TIME',\n",
       "       'DESC', 'ENTRIES', 'EXITS'],\n",
       "      dtype='object')"
      ]
     },
     "execution_count": 46,
     "metadata": {},
     "output_type": "execute_result"
    }
   ],
   "source": [
    "mta.columns"
   ]
  },
  {
   "cell_type": "code",
   "execution_count": 47,
   "metadata": {
    "scrolled": true
   },
   "outputs": [
    {
     "data": {
      "text/plain": [
       "364"
      ]
     },
     "execution_count": 47,
     "metadata": {},
     "output_type": "execute_result"
    }
   ],
   "source": [
    "len(mta[\"DATE\"].unique())"
   ]
  },
  {
   "cell_type": "markdown",
   "metadata": {},
   "source": [
    "#### The data is ready, however, it is best to save it so in case we need to shutdown the kernel or if it crashes, we won't need to re-run all the above script.\n",
    "#### Pickling is the technique that is used to store python objects like lists, dictionaries, class objects, etc.\n",
    "#### Pickling is the serializing and de-serializing of python objects to a byte stream. Unpicking is the opposite."
   ]
  },
  {
   "cell_type": "code",
   "execution_count": 4,
   "metadata": {},
   "outputs": [],
   "source": [
    "import pickle"
   ]
  },
  {
   "cell_type": "code",
   "execution_count": 52,
   "metadata": {
    "collapsed": true
   },
   "outputs": [],
   "source": [
    "pickle_out = open(\"mta_dataset\",\"wb\")"
   ]
  },
  {
   "cell_type": "code",
   "execution_count": 53,
   "metadata": {},
   "outputs": [],
   "source": [
    "pickle.dump(mta, pickle_out)"
   ]
  },
  {
   "cell_type": "code",
   "execution_count": 5,
   "metadata": {},
   "outputs": [],
   "source": [
    "#Open the pickle file and load it to the variable\n",
    "pickle_in = open(\"mta_dataset\",\"rb\")\n",
    "mta = pickle.load(pickle_in)\n"
   ]
  },
  {
   "cell_type": "markdown",
   "metadata": {},
   "source": [
    "### So now we have the data for year 2017, we are ready for the analysis part."
   ]
  },
  {
   "cell_type": "markdown",
   "metadata": {},
   "source": [
    "***"
   ]
  },
  {
   "cell_type": "markdown",
   "metadata": {},
   "source": [
    "# Part II - Analysis\n",
    "## Understanding the data\n",
    "#### Some details about the attributes\n",
    "\n",
    "* C/A      = Control Area (A002) <br />\n",
    "\n",
    "* UNIT     = Remote Unit for a station (R051)\n",
    "\n",
    "* SCP      = Subunit Channel Position represents an specific address for a device (02-00-00)\n",
    "\n",
    "* STATION  = Represents the station name the device is located at\n",
    "\n",
    "* LINENAME = Represents all train lines that can be boarded at this station. \n",
    "    * Normally lines are represented by one character.  LINENAME 456NQR repersents train server for 4, 5, 6, N,Q, and R trains.\n",
    "\n",
    "* DIVISION = Represents the Line originally the station belonged to BMT, IRT, or IND   \n",
    "\n",
    "* DATE     = Represents the date (YYYY-MM-DD)\n",
    "\n",
    "* TIME     = Represents the time (hh:mm:ss) for a scheduled audit event\n",
    "\n",
    "* DESC     = Represent the \"REGULAR\" scheduled audit event (Normally occurs every 4 hours)\n",
    "               * 1. Audits may occur more that 4 hours due to planning, or troubleshooting activities. \n",
    "               * 2. Additionally, there may be a \"RECOVR AUD\" entry: This refers to a missed audit that was recovered. \n",
    "\n",
    "* ENTRIES  = The comulative entry register value for a device\n",
    "\n",
    "* EXITS    = The cumulative exit register value for a device\n",
    "\n",
    "**_The entries and exits aren’t counts per interval, but equivalent to an “odometer” reading for each device._**\n"
   ]
  },
  {
   "cell_type": "markdown",
   "metadata": {},
   "source": [
    "** Which column represents a unique turnstile? **\n",
    "\n",
    "At first I thought that the UNIT attribute is the turnstile, however, I found out that there are far fewer units at every station on an average just 2 or 3. Even a small station generally has at least 4 - 6 turnstiles and bigger ones have multiple entry/exit points so there could be 20 - 30 turnstiles.\n",
    "\n",
    "After some Googling and going through some forums, I found that the SCP column represents the turnstiles. \n"
   ]
  },
  {
   "cell_type": "code",
   "execution_count": 25,
   "metadata": {},
   "outputs": [
    {
     "data": {
      "text/plain": [
       "STATION\n",
       "1 AV               1\n",
       "103 ST             3\n",
       "103 ST-CORONA      1\n",
       "104 ST             2\n",
       "110 ST             1\n",
       "111 ST             3\n",
       "116 ST             3\n",
       "116 ST-COLUMBIA    1\n",
       "121 ST             1\n",
       "125 ST             4\n",
       "Name: UNIT, dtype: int64"
      ]
     },
     "execution_count": 25,
     "metadata": {},
     "output_type": "execute_result"
    }
   ],
   "source": [
    "#number of unique units at every station\n",
    "mta.groupby(\"STATION\").UNIT.nunique()[:10]"
   ]
  },
  {
   "cell_type": "code",
   "execution_count": 26,
   "metadata": {
    "scrolled": true
   },
   "outputs": [
    {
     "data": {
      "text/plain": [
       "STATION\n",
       "PATH NEW WTC       90\n",
       "FULTON ST          80\n",
       "34 ST-PENN STA     58\n",
       "CHAMBERS ST        49\n",
       "ATL AV-BARCLAY     48\n",
       "TIMES SQ-42 ST     43\n",
       "WALL ST            43\n",
       "GRD CNTRL-42 ST    41\n",
       "34 ST-HERALD SQ    41\n",
       "59 ST COLUMBUS     41\n",
       "Name: SCP, dtype: int64"
      ]
     },
     "execution_count": 26,
     "metadata": {},
     "output_type": "execute_result"
    }
   ],
   "source": [
    "mta.groupby(\"STATION\").SCP.nunique().sort_values(ascending=False)[:10]"
   ]
  },
  {
   "cell_type": "code",
   "execution_count": 28,
   "metadata": {},
   "outputs": [
    {
     "data": {
      "text/plain": [
       "STATION        SCP     \n",
       "1 AV           00-03-00    2204\n",
       "               00-03-02    2204\n",
       "               00-03-01    2203\n",
       "               00-00-00    2202\n",
       "               00-00-01    2202\n",
       "               01-00-02    2196\n",
       "               01-00-03    2196\n",
       "               01-00-04    2195\n",
       "               01-00-00    2194\n",
       "               01-00-01    2193\n",
       "103 ST         00-00-01    6596\n",
       "               00-00-02    6596\n",
       "               00-00-00    6579\n",
       "               00-03-02    4409\n",
       "               00-03-01    4404\n",
       "               00-03-00    4394\n",
       "103 ST-CORONA  00-00-00    2195\n",
       "               00-05-00    2195\n",
       "               00-05-01    2195\n",
       "               00-06-00    2195\n",
       "               00-06-01    2195\n",
       "               00-00-01    2193\n",
       "               00-00-02    2193\n",
       "               00-00-03    2193\n",
       "               00-00-04    2192\n",
       "104 ST         00-00-01    4344\n",
       "               00-00-02    4343\n",
       "               00-00-00    4316\n",
       "               00-06-01    2183\n",
       "               00-06-00    2179\n",
       "               00-00-03    2153\n",
       "110 ST         00-00-00    2212\n",
       "               00-00-01    2212\n",
       "               00-00-02    2212\n",
       "               01-00-02    2195\n",
       "               01-00-00    2194\n",
       "               01-00-01    2194\n",
       "111 ST         00-00-01    6577\n",
       "               00-00-00    6575\n",
       "               00-00-02    6575\n",
       "               00-00-03    4389\n",
       "               01-04-00    2204\n",
       "               01-04-01    2203\n",
       "               01-06-00    2202\n",
       "               01-06-01    2202\n",
       "               00-00-04    2192\n",
       "116 ST         01-00-00    6633\n",
       "               01-00-01    6628\n",
       "               00-00-02    6615\n",
       "               00-00-01    6614\n",
       "Name: SCP, dtype: int64"
      ]
     },
     "execution_count": 28,
     "metadata": {},
     "output_type": "execute_result"
    }
   ],
   "source": [
    "mta.groupby(\"STATION\").SCP.value_counts()[:50]"
   ]
  },
  {
   "cell_type": "markdown",
   "metadata": {},
   "source": [
    "**So clearly there are no unique SCP values for every station**\n",
    "\n",
    "So we need to think of a combination to identify a unique turnstile."
   ]
  },
  {
   "cell_type": "code",
   "execution_count": 29,
   "metadata": {
    "scrolled": true
   },
   "outputs": [
    {
     "data": {
      "text/plain": [
       "STATION        UNIT  SCP     \n",
       "1 AV           R248  00-03-00    2204\n",
       "                     00-03-02    2204\n",
       "                     00-03-01    2203\n",
       "                     00-00-00    2202\n",
       "                     00-00-01    2202\n",
       "                     01-00-02    2196\n",
       "                     01-00-03    2196\n",
       "                     01-00-04    2195\n",
       "                     01-00-00    2194\n",
       "                     01-00-01    2193\n",
       "103 ST         R180  00-03-02    2215\n",
       "                     00-00-01    2214\n",
       "                     00-00-00    2213\n",
       "                     00-00-02    2213\n",
       "                     00-03-01    2209\n",
       "                     00-03-00    2200\n",
       "               R191  00-00-02    2195\n",
       "                     00-03-01    2195\n",
       "                     00-00-01    2194\n",
       "                     00-03-00    2194\n",
       "                     00-03-02    2194\n",
       "                     00-00-00    2178\n",
       "               R314  00-00-00    2188\n",
       "                     00-00-01    2188\n",
       "                     00-00-02    2188\n",
       "103 ST-CORONA  R208  00-00-00    2195\n",
       "                     00-05-00    2195\n",
       "                     00-05-01    2195\n",
       "                     00-06-00    2195\n",
       "                     00-06-01    2195\n",
       "                     00-00-01    2193\n",
       "                     00-00-02    2193\n",
       "                     00-00-03    2193\n",
       "                     00-00-04    2192\n",
       "104 ST         R007  00-00-01    2156\n",
       "                     00-00-00    2155\n",
       "                     00-00-02    2155\n",
       "                     00-00-03    2153\n",
       "               R354  00-00-01    2188\n",
       "                     00-00-02    2188\n",
       "                     00-06-01    2183\n",
       "                     00-06-00    2179\n",
       "                     00-00-00    2161\n",
       "110 ST         R181  00-00-00    2212\n",
       "                     00-00-01    2212\n",
       "                     00-00-02    2212\n",
       "                     01-00-02    2195\n",
       "                     01-00-00    2194\n",
       "                     01-00-01    2194\n",
       "111 ST         R008  00-00-01    2199\n",
       "Name: SCP, dtype: int64"
      ]
     },
     "execution_count": 29,
     "metadata": {},
     "output_type": "execute_result"
    }
   ],
   "source": [
    "#let's try with station as well as unit\n",
    "mta.groupby([\"STATION\",\"UNIT\"]).SCP.value_counts()[:50]\n"
   ]
  },
  {
   "cell_type": "markdown",
   "metadata": {},
   "source": [
    "We can see that SCPs are reapeted among different units.\n",
    "**So STATION,UNIT,SCP should together identify a unique turnstile.**"
   ]
  },
  {
   "cell_type": "markdown",
   "metadata": {},
   "source": [
    "**Also, let's check if there is any relation between STATION and C/A**"
   ]
  },
  {
   "cell_type": "code",
   "execution_count": 41,
   "metadata": {
    "scrolled": false
   },
   "outputs": [
    {
     "ename": "SyntaxError",
     "evalue": "invalid syntax (<ipython-input-41-b6d691a02130>, line 1)",
     "output_type": "error",
     "traceback": [
      "\u001b[0;36m  File \u001b[0;32m\"<ipython-input-41-b6d691a02130>\"\u001b[0;36m, line \u001b[0;32m1\u001b[0m\n\u001b[0;31m    mta.groupby(\"STATION\").[\"C/A\"].nunique().value_counts()\u001b[0m\n\u001b[0m                           ^\u001b[0m\n\u001b[0;31mSyntaxError\u001b[0m\u001b[0;31m:\u001b[0m invalid syntax\n"
     ]
    }
   ],
   "source": [
    "mta.groupby(\"STATION\").[\"C/A\"].nunique().value_counts()"
   ]
  },
  {
   "cell_type": "code",
   "execution_count": 44,
   "metadata": {},
   "outputs": [],
   "source": [
    "mta.rename(columns={'C/A':'CA'}, inplace=True)"
   ]
  },
  {
   "cell_type": "code",
   "execution_count": 45,
   "metadata": {
    "scrolled": false
   },
   "outputs": [
    {
     "data": {
      "text/html": [
       "<div>\n",
       "<style>\n",
       "    .dataframe thead tr:only-child th {\n",
       "        text-align: right;\n",
       "    }\n",
       "\n",
       "    .dataframe thead th {\n",
       "        text-align: left;\n",
       "    }\n",
       "\n",
       "    .dataframe tbody tr th {\n",
       "        vertical-align: top;\n",
       "    }\n",
       "</style>\n",
       "<table border=\"1\" class=\"dataframe\">\n",
       "  <thead>\n",
       "    <tr style=\"text-align: right;\">\n",
       "      <th></th>\n",
       "      <th>CA</th>\n",
       "      <th>UNIT</th>\n",
       "      <th>SCP</th>\n",
       "      <th>STATION</th>\n",
       "      <th>LINENAME</th>\n",
       "      <th>DIVISION</th>\n",
       "      <th>DATE</th>\n",
       "      <th>TIME</th>\n",
       "      <th>DESC</th>\n",
       "      <th>ENTRIES</th>\n",
       "      <th>EXITS</th>\n",
       "    </tr>\n",
       "  </thead>\n",
       "  <tbody>\n",
       "    <tr>\n",
       "      <th>0</th>\n",
       "      <td>A002</td>\n",
       "      <td>R051</td>\n",
       "      <td>02-00-00</td>\n",
       "      <td>59 ST</td>\n",
       "      <td>NQR456W</td>\n",
       "      <td>BMT</td>\n",
       "      <td>2017-12-23</td>\n",
       "      <td>03:00:00</td>\n",
       "      <td>REGULAR</td>\n",
       "      <td>6455840</td>\n",
       "      <td>2184987</td>\n",
       "    </tr>\n",
       "    <tr>\n",
       "      <th>1</th>\n",
       "      <td>A002</td>\n",
       "      <td>R051</td>\n",
       "      <td>02-00-00</td>\n",
       "      <td>59 ST</td>\n",
       "      <td>NQR456W</td>\n",
       "      <td>BMT</td>\n",
       "      <td>2017-12-23</td>\n",
       "      <td>07:00:00</td>\n",
       "      <td>REGULAR</td>\n",
       "      <td>6455856</td>\n",
       "      <td>2184995</td>\n",
       "    </tr>\n",
       "    <tr>\n",
       "      <th>2</th>\n",
       "      <td>A002</td>\n",
       "      <td>R051</td>\n",
       "      <td>02-00-00</td>\n",
       "      <td>59 ST</td>\n",
       "      <td>NQR456W</td>\n",
       "      <td>BMT</td>\n",
       "      <td>2017-12-23</td>\n",
       "      <td>11:00:00</td>\n",
       "      <td>REGULAR</td>\n",
       "      <td>6455899</td>\n",
       "      <td>2185082</td>\n",
       "    </tr>\n",
       "    <tr>\n",
       "      <th>3</th>\n",
       "      <td>A002</td>\n",
       "      <td>R051</td>\n",
       "      <td>02-00-00</td>\n",
       "      <td>59 ST</td>\n",
       "      <td>NQR456W</td>\n",
       "      <td>BMT</td>\n",
       "      <td>2017-12-23</td>\n",
       "      <td>15:00:00</td>\n",
       "      <td>REGULAR</td>\n",
       "      <td>6456038</td>\n",
       "      <td>2185156</td>\n",
       "    </tr>\n",
       "    <tr>\n",
       "      <th>4</th>\n",
       "      <td>A002</td>\n",
       "      <td>R051</td>\n",
       "      <td>02-00-00</td>\n",
       "      <td>59 ST</td>\n",
       "      <td>NQR456W</td>\n",
       "      <td>BMT</td>\n",
       "      <td>2017-12-23</td>\n",
       "      <td>19:00:00</td>\n",
       "      <td>REGULAR</td>\n",
       "      <td>6456327</td>\n",
       "      <td>2185197</td>\n",
       "    </tr>\n",
       "  </tbody>\n",
       "</table>\n",
       "</div>"
      ],
      "text/plain": [
       "     CA  UNIT       SCP STATION LINENAME DIVISION       DATE      TIME  \\\n",
       "0  A002  R051  02-00-00   59 ST  NQR456W      BMT 2017-12-23  03:00:00   \n",
       "1  A002  R051  02-00-00   59 ST  NQR456W      BMT 2017-12-23  07:00:00   \n",
       "2  A002  R051  02-00-00   59 ST  NQR456W      BMT 2017-12-23  11:00:00   \n",
       "3  A002  R051  02-00-00   59 ST  NQR456W      BMT 2017-12-23  15:00:00   \n",
       "4  A002  R051  02-00-00   59 ST  NQR456W      BMT 2017-12-23  19:00:00   \n",
       "\n",
       "      DESC  ENTRIES    EXITS  \n",
       "0  REGULAR  6455840  2184987  \n",
       "1  REGULAR  6455856  2184995  \n",
       "2  REGULAR  6455899  2185082  \n",
       "3  REGULAR  6456038  2185156  \n",
       "4  REGULAR  6456327  2185197  "
      ]
     },
     "execution_count": 45,
     "metadata": {},
     "output_type": "execute_result"
    }
   ],
   "source": [
    "mta.head()"
   ]
  },
  {
   "cell_type": "code",
   "execution_count": 72,
   "metadata": {
    "scrolled": true
   },
   "outputs": [
    {
     "data": {
      "text/plain": [
       "STATION\n",
       "1 AV               2\n",
       "103 ST             3\n",
       "103 ST-CORONA      1\n",
       "104 ST             2\n",
       "110 ST             2\n",
       "111 ST             4\n",
       "116 ST             6\n",
       "116 ST-COLUMBIA    1\n",
       "121 ST             1\n",
       "125 ST             6\n",
       "135 ST             5\n",
       "137 ST CITY COL    2\n",
       "138/GRAND CONC     1\n",
       "14 ST              7\n",
       "14 ST-UNION SQ     5\n",
       "145 ST             5\n",
       "149/GRAND CONC     2\n",
       "14TH STREET        1\n",
       "15 ST-PROSPECT     2\n",
       "155 ST             2\n",
       "157 ST             2\n",
       "161/YANKEE STAD    5\n",
       "163 ST-AMSTERDM    1\n",
       "167 ST             3\n",
       "168 ST             3\n",
       "169 ST             2\n",
       "170 ST             3\n",
       "174 ST             2\n",
       "174-175 STS        2\n",
       "175 ST             2\n",
       "                  ..\n",
       "SUTPHIN-ARCHER     1\n",
       "SUTTER AV          1\n",
       "SUTTER AV-RUTLD    1\n",
       "THIRTY ST          1\n",
       "THIRTY THIRD ST    1\n",
       "TIMES SQ-42 ST     6\n",
       "TOMPKINSVILLE      1\n",
       "TREMONT AV         1\n",
       "TWENTY THIRD ST    1\n",
       "UNION ST           2\n",
       "UTICA AV           2\n",
       "V.CORTLANDT PK     1\n",
       "VAN SICLEN AV      2\n",
       "VAN SICLEN AVE     1\n",
       "VERNON-JACKSON     3\n",
       "W 4 ST-WASH SQ     2\n",
       "W 8 ST-AQUARIUM    2\n",
       "WAKEFIELD/241      1\n",
       "WALL ST            8\n",
       "WEST FARMS SQ      1\n",
       "WESTCHESTER SQ     1\n",
       "WHITEHALL S-FRY    2\n",
       "WHITLOCK AV        1\n",
       "WILSON AV          1\n",
       "WINTHROP ST        1\n",
       "WOODHAVEN BLVD     4\n",
       "WOODLAWN           1\n",
       "WORLD TRADE CTR    1\n",
       "YORK ST            1\n",
       "ZEREGA AV          1\n",
       "Name: CA, Length: 380, dtype: int64"
      ]
     },
     "execution_count": 72,
     "metadata": {},
     "output_type": "execute_result"
    }
   ],
   "source": [
    "mta.groupby(\"STATION\").CA.nunique()"
   ]
  },
  {
   "cell_type": "markdown",
   "metadata": {},
   "source": [
    "So every station has at least 1 or more control areas.\n",
    "\n",
    "We need to check that the control area and station has a one-to-one relationship."
   ]
  },
  {
   "cell_type": "code",
   "execution_count": 79,
   "metadata": {
    "scrolled": true
   },
   "outputs": [
    {
     "data": {
      "text/plain": [
       "CA\n",
       "N408A    2\n",
       "TRAM2    1\n",
       "N103     1\n",
       "N117     1\n",
       "N116     1\n",
       "N114     1\n",
       "N113     1\n",
       "N112A    1\n",
       "N111     1\n",
       "N110     1\n",
       "N108     1\n",
       "N102     1\n",
       "N119     1\n",
       "N101     1\n",
       "N100     1\n",
       "N098     1\n",
       "N095A    1\n",
       "N095     1\n",
       "N094     1\n",
       "N092     1\n",
       "Name: STATION, dtype: int64"
      ]
     },
     "execution_count": 79,
     "metadata": {},
     "output_type": "execute_result"
    }
   ],
   "source": [
    "mta.groupby(\"CA\").STATION.nunique().sort_values(ascending=False).head(20)"
   ]
  },
  {
   "cell_type": "markdown",
   "metadata": {},
   "source": [
    "We can see that all but one CA correspond to one unique station.\n",
    "\n",
    "So except for control area N408A, there is a one-to-one relationship between control area and station."
   ]
  },
  {
   "cell_type": "code",
   "execution_count": 77,
   "metadata": {},
   "outputs": [
    {
     "data": {
      "text/plain": [
       "737"
      ]
     },
     "execution_count": 77,
     "metadata": {},
     "output_type": "execute_result"
    }
   ],
   "source": [
    "len(mta[\"CA\"].unique())"
   ]
  },
  {
   "cell_type": "code",
   "execution_count": 76,
   "metadata": {
    "scrolled": true
   },
   "outputs": [
    {
     "data": {
      "text/plain": [
       "1    736\n",
       "2      1\n",
       "Name: STATION, dtype: int64"
      ]
     },
     "execution_count": 76,
     "metadata": {},
     "output_type": "execute_result"
    }
   ],
   "source": [
    "mta.groupby(\"CA\").STATION.nunique().value_counts()"
   ]
  },
  {
   "cell_type": "markdown",
   "metadata": {},
   "source": [
    "This also proves that there is only one instance of 2 stations having the same control area."
   ]
  },
  {
   "cell_type": "markdown",
   "metadata": {},
   "source": [
    "<font color=\"red\">**_So we now we can conclude that the a turnstile can be identified by the combination of (STATION, UNIT, SCP)_**</font>"
   ]
  },
  {
   "cell_type": "markdown",
   "metadata": {},
   "source": [
    "Also, let's make sure that we remove this exception of CA N408A."
   ]
  },
  {
   "cell_type": "code",
   "execution_count": 82,
   "metadata": {},
   "outputs": [],
   "source": [
    "mta.drop(mta[mta[\"CA\"] == \"N408A\"].index, inplace=True)"
   ]
  },
  {
   "cell_type": "code",
   "execution_count": 83,
   "metadata": {},
   "outputs": [
    {
     "data": {
      "text/html": [
       "<div>\n",
       "<style>\n",
       "    .dataframe thead tr:only-child th {\n",
       "        text-align: right;\n",
       "    }\n",
       "\n",
       "    .dataframe thead th {\n",
       "        text-align: left;\n",
       "    }\n",
       "\n",
       "    .dataframe tbody tr th {\n",
       "        vertical-align: top;\n",
       "    }\n",
       "</style>\n",
       "<table border=\"1\" class=\"dataframe\">\n",
       "  <thead>\n",
       "    <tr style=\"text-align: right;\">\n",
       "      <th></th>\n",
       "      <th>CA</th>\n",
       "      <th>UNIT</th>\n",
       "      <th>SCP</th>\n",
       "      <th>STATION</th>\n",
       "      <th>LINENAME</th>\n",
       "      <th>DIVISION</th>\n",
       "      <th>DATE</th>\n",
       "      <th>TIME</th>\n",
       "      <th>DESC</th>\n",
       "      <th>ENTRIES</th>\n",
       "      <th>EXITS</th>\n",
       "    </tr>\n",
       "  </thead>\n",
       "  <tbody>\n",
       "  </tbody>\n",
       "</table>\n",
       "</div>"
      ],
      "text/plain": [
       "Empty DataFrame\n",
       "Columns: [CA, UNIT, SCP, STATION, LINENAME, DIVISION, DATE, TIME, DESC, ENTRIES, EXITS]\n",
       "Index: []"
      ]
     },
     "execution_count": 83,
     "metadata": {},
     "output_type": "execute_result"
    }
   ],
   "source": [
    "mta[mta[\"CA\"] == \"N408A\"]"
   ]
  },
  {
   "cell_type": "markdown",
   "metadata": {},
   "source": [
    "We have successfully removed records with CA = N408A"
   ]
  },
  {
   "cell_type": "markdown",
   "metadata": {},
   "source": [
    "***"
   ]
  },
  {
   "cell_type": "markdown",
   "metadata": {},
   "source": [
    "## The next question is getting the actual number of entries and exits\n",
    "I found out from a forum that the turnstile readings reset every now and then, however, the reading **do not completely reset to 0**.\n",
    "\n",
    "I found this by plotting the numbers by date and time attributes in Tableau.\n",
    "\n",
    "One startegy could be to get the difference in consecutive readings taken from a turnstile.\n",
    "\n",
    "However, we first need to have the dataset sorted in the order of station."
   ]
  },
  {
   "cell_type": "markdown",
   "metadata": {},
   "source": [
    "Changing order of the columns..."
   ]
  },
  {
   "cell_type": "code",
   "execution_count": 85,
   "metadata": {
    "collapsed": true
   },
   "outputs": [],
   "source": [
    "mta = mta[[\"STATION\",\"CA\",\"UNIT\",\"SCP\", \"LINENAME\",\"DIVISION\",\"DATE\",\"TIME\",\"DESC\",\"ENTRIES\",\"EXITS\"]]"
   ]
  },
  {
   "cell_type": "code",
   "execution_count": 86,
   "metadata": {
    "scrolled": true
   },
   "outputs": [
    {
     "data": {
      "text/html": [
       "<div>\n",
       "<style>\n",
       "    .dataframe thead tr:only-child th {\n",
       "        text-align: right;\n",
       "    }\n",
       "\n",
       "    .dataframe thead th {\n",
       "        text-align: left;\n",
       "    }\n",
       "\n",
       "    .dataframe tbody tr th {\n",
       "        vertical-align: top;\n",
       "    }\n",
       "</style>\n",
       "<table border=\"1\" class=\"dataframe\">\n",
       "  <thead>\n",
       "    <tr style=\"text-align: right;\">\n",
       "      <th></th>\n",
       "      <th>STATION</th>\n",
       "      <th>CA</th>\n",
       "      <th>UNIT</th>\n",
       "      <th>SCP</th>\n",
       "      <th>LINENAME</th>\n",
       "      <th>DIVISION</th>\n",
       "      <th>DATE</th>\n",
       "      <th>TIME</th>\n",
       "      <th>DESC</th>\n",
       "      <th>ENTRIES</th>\n",
       "      <th>EXITS</th>\n",
       "    </tr>\n",
       "  </thead>\n",
       "  <tbody>\n",
       "    <tr>\n",
       "      <th>0</th>\n",
       "      <td>59 ST</td>\n",
       "      <td>A002</td>\n",
       "      <td>R051</td>\n",
       "      <td>02-00-00</td>\n",
       "      <td>NQR456W</td>\n",
       "      <td>BMT</td>\n",
       "      <td>2017-12-23</td>\n",
       "      <td>03:00:00</td>\n",
       "      <td>REGULAR</td>\n",
       "      <td>6455840</td>\n",
       "      <td>2184987</td>\n",
       "    </tr>\n",
       "    <tr>\n",
       "      <th>1</th>\n",
       "      <td>59 ST</td>\n",
       "      <td>A002</td>\n",
       "      <td>R051</td>\n",
       "      <td>02-00-00</td>\n",
       "      <td>NQR456W</td>\n",
       "      <td>BMT</td>\n",
       "      <td>2017-12-23</td>\n",
       "      <td>07:00:00</td>\n",
       "      <td>REGULAR</td>\n",
       "      <td>6455856</td>\n",
       "      <td>2184995</td>\n",
       "    </tr>\n",
       "    <tr>\n",
       "      <th>2</th>\n",
       "      <td>59 ST</td>\n",
       "      <td>A002</td>\n",
       "      <td>R051</td>\n",
       "      <td>02-00-00</td>\n",
       "      <td>NQR456W</td>\n",
       "      <td>BMT</td>\n",
       "      <td>2017-12-23</td>\n",
       "      <td>11:00:00</td>\n",
       "      <td>REGULAR</td>\n",
       "      <td>6455899</td>\n",
       "      <td>2185082</td>\n",
       "    </tr>\n",
       "    <tr>\n",
       "      <th>3</th>\n",
       "      <td>59 ST</td>\n",
       "      <td>A002</td>\n",
       "      <td>R051</td>\n",
       "      <td>02-00-00</td>\n",
       "      <td>NQR456W</td>\n",
       "      <td>BMT</td>\n",
       "      <td>2017-12-23</td>\n",
       "      <td>15:00:00</td>\n",
       "      <td>REGULAR</td>\n",
       "      <td>6456038</td>\n",
       "      <td>2185156</td>\n",
       "    </tr>\n",
       "    <tr>\n",
       "      <th>4</th>\n",
       "      <td>59 ST</td>\n",
       "      <td>A002</td>\n",
       "      <td>R051</td>\n",
       "      <td>02-00-00</td>\n",
       "      <td>NQR456W</td>\n",
       "      <td>BMT</td>\n",
       "      <td>2017-12-23</td>\n",
       "      <td>19:00:00</td>\n",
       "      <td>REGULAR</td>\n",
       "      <td>6456327</td>\n",
       "      <td>2185197</td>\n",
       "    </tr>\n",
       "  </tbody>\n",
       "</table>\n",
       "</div>"
      ],
      "text/plain": [
       "  STATION    CA  UNIT       SCP LINENAME DIVISION       DATE      TIME  \\\n",
       "0   59 ST  A002  R051  02-00-00  NQR456W      BMT 2017-12-23  03:00:00   \n",
       "1   59 ST  A002  R051  02-00-00  NQR456W      BMT 2017-12-23  07:00:00   \n",
       "2   59 ST  A002  R051  02-00-00  NQR456W      BMT 2017-12-23  11:00:00   \n",
       "3   59 ST  A002  R051  02-00-00  NQR456W      BMT 2017-12-23  15:00:00   \n",
       "4   59 ST  A002  R051  02-00-00  NQR456W      BMT 2017-12-23  19:00:00   \n",
       "\n",
       "      DESC  ENTRIES    EXITS  \n",
       "0  REGULAR  6455840  2184987  \n",
       "1  REGULAR  6455856  2184995  \n",
       "2  REGULAR  6455899  2185082  \n",
       "3  REGULAR  6456038  2185156  \n",
       "4  REGULAR  6456327  2185197  "
      ]
     },
     "execution_count": 86,
     "metadata": {},
     "output_type": "execute_result"
    }
   ],
   "source": [
    "mta.head()"
   ]
  },
  {
   "cell_type": "markdown",
   "metadata": {},
   "source": [
    "Sorting values by STATION, CA, UNIT, SCP, DATE, TIME so that we have the entry/exit numbers in correct order before we get the difference between consecutive rows..."
   ]
  },
  {
   "cell_type": "code",
   "execution_count": 87,
   "metadata": {},
   "outputs": [],
   "source": [
    "mta = mta.sort_values([\"STATION\", \"CA\", \"UNIT\", \"SCP\", \"DATE\", \"TIME\"])"
   ]
  },
  {
   "cell_type": "code",
   "execution_count": 88,
   "metadata": {
    "scrolled": true
   },
   "outputs": [
    {
     "data": {
      "text/html": [
       "<div>\n",
       "<style>\n",
       "    .dataframe thead tr:only-child th {\n",
       "        text-align: right;\n",
       "    }\n",
       "\n",
       "    .dataframe thead th {\n",
       "        text-align: left;\n",
       "    }\n",
       "\n",
       "    .dataframe tbody tr th {\n",
       "        vertical-align: top;\n",
       "    }\n",
       "</style>\n",
       "<table border=\"1\" class=\"dataframe\">\n",
       "  <thead>\n",
       "    <tr style=\"text-align: right;\">\n",
       "      <th></th>\n",
       "      <th>STATION</th>\n",
       "      <th>CA</th>\n",
       "      <th>UNIT</th>\n",
       "      <th>SCP</th>\n",
       "      <th>LINENAME</th>\n",
       "      <th>DIVISION</th>\n",
       "      <th>DATE</th>\n",
       "      <th>TIME</th>\n",
       "      <th>DESC</th>\n",
       "      <th>ENTRIES</th>\n",
       "      <th>EXITS</th>\n",
       "    </tr>\n",
       "  </thead>\n",
       "  <tbody>\n",
       "    <tr>\n",
       "      <th>10093563</th>\n",
       "      <td>1 AV</td>\n",
       "      <td>H007</td>\n",
       "      <td>R248</td>\n",
       "      <td>00-00-00</td>\n",
       "      <td>L</td>\n",
       "      <td>BMT</td>\n",
       "      <td>2016-12-31</td>\n",
       "      <td>03:00:00</td>\n",
       "      <td>REGULAR</td>\n",
       "      <td>11892866</td>\n",
       "      <td>13050144</td>\n",
       "    </tr>\n",
       "    <tr>\n",
       "      <th>10093564</th>\n",
       "      <td>1 AV</td>\n",
       "      <td>H007</td>\n",
       "      <td>R248</td>\n",
       "      <td>00-00-00</td>\n",
       "      <td>L</td>\n",
       "      <td>BMT</td>\n",
       "      <td>2016-12-31</td>\n",
       "      <td>07:00:00</td>\n",
       "      <td>REGULAR</td>\n",
       "      <td>11892926</td>\n",
       "      <td>13050308</td>\n",
       "    </tr>\n",
       "    <tr>\n",
       "      <th>10093565</th>\n",
       "      <td>1 AV</td>\n",
       "      <td>H007</td>\n",
       "      <td>R248</td>\n",
       "      <td>00-00-00</td>\n",
       "      <td>L</td>\n",
       "      <td>BMT</td>\n",
       "      <td>2016-12-31</td>\n",
       "      <td>11:00:00</td>\n",
       "      <td>REGULAR</td>\n",
       "      <td>11893253</td>\n",
       "      <td>13050807</td>\n",
       "    </tr>\n",
       "    <tr>\n",
       "      <th>10093566</th>\n",
       "      <td>1 AV</td>\n",
       "      <td>H007</td>\n",
       "      <td>R248</td>\n",
       "      <td>00-00-00</td>\n",
       "      <td>L</td>\n",
       "      <td>BMT</td>\n",
       "      <td>2016-12-31</td>\n",
       "      <td>15:00:00</td>\n",
       "      <td>REGULAR</td>\n",
       "      <td>11893870</td>\n",
       "      <td>13051562</td>\n",
       "    </tr>\n",
       "    <tr>\n",
       "      <th>10093567</th>\n",
       "      <td>1 AV</td>\n",
       "      <td>H007</td>\n",
       "      <td>R248</td>\n",
       "      <td>00-00-00</td>\n",
       "      <td>L</td>\n",
       "      <td>BMT</td>\n",
       "      <td>2016-12-31</td>\n",
       "      <td>19:00:00</td>\n",
       "      <td>REGULAR</td>\n",
       "      <td>11894473</td>\n",
       "      <td>13052475</td>\n",
       "    </tr>\n",
       "  </tbody>\n",
       "</table>\n",
       "</div>"
      ],
      "text/plain": [
       "         STATION    CA  UNIT       SCP LINENAME DIVISION       DATE      TIME  \\\n",
       "10093563    1 AV  H007  R248  00-00-00        L      BMT 2016-12-31  03:00:00   \n",
       "10093564    1 AV  H007  R248  00-00-00        L      BMT 2016-12-31  07:00:00   \n",
       "10093565    1 AV  H007  R248  00-00-00        L      BMT 2016-12-31  11:00:00   \n",
       "10093566    1 AV  H007  R248  00-00-00        L      BMT 2016-12-31  15:00:00   \n",
       "10093567    1 AV  H007  R248  00-00-00        L      BMT 2016-12-31  19:00:00   \n",
       "\n",
       "             DESC   ENTRIES     EXITS  \n",
       "10093563  REGULAR  11892866  13050144  \n",
       "10093564  REGULAR  11892926  13050308  \n",
       "10093565  REGULAR  11893253  13050807  \n",
       "10093566  REGULAR  11893870  13051562  \n",
       "10093567  REGULAR  11894473  13052475  "
      ]
     },
     "execution_count": 88,
     "metadata": {},
     "output_type": "execute_result"
    }
   ],
   "source": [
    "mta.head()"
   ]
  },
  {
   "cell_type": "code",
   "execution_count": 89,
   "metadata": {
    "collapsed": true
   },
   "outputs": [],
   "source": [
    "mta[\"realEntries\"] = mta[\"EXITS\"].diff()"
   ]
  },
  {
   "cell_type": "code",
   "execution_count": 92,
   "metadata": {},
   "outputs": [
    {
     "data": {
      "text/html": [
       "<div>\n",
       "<style>\n",
       "    .dataframe thead tr:only-child th {\n",
       "        text-align: right;\n",
       "    }\n",
       "\n",
       "    .dataframe thead th {\n",
       "        text-align: left;\n",
       "    }\n",
       "\n",
       "    .dataframe tbody tr th {\n",
       "        vertical-align: top;\n",
       "    }\n",
       "</style>\n",
       "<table border=\"1\" class=\"dataframe\">\n",
       "  <thead>\n",
       "    <tr style=\"text-align: right;\">\n",
       "      <th></th>\n",
       "      <th>STATION</th>\n",
       "      <th>CA</th>\n",
       "      <th>UNIT</th>\n",
       "      <th>SCP</th>\n",
       "      <th>LINENAME</th>\n",
       "      <th>DIVISION</th>\n",
       "      <th>DATE</th>\n",
       "      <th>TIME</th>\n",
       "      <th>DESC</th>\n",
       "      <th>ENTRIES</th>\n",
       "      <th>EXITS</th>\n",
       "      <th>actualExits</th>\n",
       "    </tr>\n",
       "  </thead>\n",
       "  <tbody>\n",
       "    <tr>\n",
       "      <th>10093563</th>\n",
       "      <td>1 AV</td>\n",
       "      <td>H007</td>\n",
       "      <td>R248</td>\n",
       "      <td>00-00-00</td>\n",
       "      <td>L</td>\n",
       "      <td>BMT</td>\n",
       "      <td>2016-12-31</td>\n",
       "      <td>03:00:00</td>\n",
       "      <td>REGULAR</td>\n",
       "      <td>11892866</td>\n",
       "      <td>13050144</td>\n",
       "      <td>NaN</td>\n",
       "    </tr>\n",
       "    <tr>\n",
       "      <th>10093564</th>\n",
       "      <td>1 AV</td>\n",
       "      <td>H007</td>\n",
       "      <td>R248</td>\n",
       "      <td>00-00-00</td>\n",
       "      <td>L</td>\n",
       "      <td>BMT</td>\n",
       "      <td>2016-12-31</td>\n",
       "      <td>07:00:00</td>\n",
       "      <td>REGULAR</td>\n",
       "      <td>11892926</td>\n",
       "      <td>13050308</td>\n",
       "      <td>164.0</td>\n",
       "    </tr>\n",
       "    <tr>\n",
       "      <th>10093565</th>\n",
       "      <td>1 AV</td>\n",
       "      <td>H007</td>\n",
       "      <td>R248</td>\n",
       "      <td>00-00-00</td>\n",
       "      <td>L</td>\n",
       "      <td>BMT</td>\n",
       "      <td>2016-12-31</td>\n",
       "      <td>11:00:00</td>\n",
       "      <td>REGULAR</td>\n",
       "      <td>11893253</td>\n",
       "      <td>13050807</td>\n",
       "      <td>499.0</td>\n",
       "    </tr>\n",
       "    <tr>\n",
       "      <th>10093566</th>\n",
       "      <td>1 AV</td>\n",
       "      <td>H007</td>\n",
       "      <td>R248</td>\n",
       "      <td>00-00-00</td>\n",
       "      <td>L</td>\n",
       "      <td>BMT</td>\n",
       "      <td>2016-12-31</td>\n",
       "      <td>15:00:00</td>\n",
       "      <td>REGULAR</td>\n",
       "      <td>11893870</td>\n",
       "      <td>13051562</td>\n",
       "      <td>755.0</td>\n",
       "    </tr>\n",
       "    <tr>\n",
       "      <th>10093567</th>\n",
       "      <td>1 AV</td>\n",
       "      <td>H007</td>\n",
       "      <td>R248</td>\n",
       "      <td>00-00-00</td>\n",
       "      <td>L</td>\n",
       "      <td>BMT</td>\n",
       "      <td>2016-12-31</td>\n",
       "      <td>19:00:00</td>\n",
       "      <td>REGULAR</td>\n",
       "      <td>11894473</td>\n",
       "      <td>13052475</td>\n",
       "      <td>913.0</td>\n",
       "    </tr>\n",
       "  </tbody>\n",
       "</table>\n",
       "</div>"
      ],
      "text/plain": [
       "         STATION    CA  UNIT       SCP LINENAME DIVISION       DATE      TIME  \\\n",
       "10093563    1 AV  H007  R248  00-00-00        L      BMT 2016-12-31  03:00:00   \n",
       "10093564    1 AV  H007  R248  00-00-00        L      BMT 2016-12-31  07:00:00   \n",
       "10093565    1 AV  H007  R248  00-00-00        L      BMT 2016-12-31  11:00:00   \n",
       "10093566    1 AV  H007  R248  00-00-00        L      BMT 2016-12-31  15:00:00   \n",
       "10093567    1 AV  H007  R248  00-00-00        L      BMT 2016-12-31  19:00:00   \n",
       "\n",
       "             DESC   ENTRIES     EXITS  actualExits  \n",
       "10093563  REGULAR  11892866  13050144          NaN  \n",
       "10093564  REGULAR  11892926  13050308        164.0  \n",
       "10093565  REGULAR  11893253  13050807        499.0  \n",
       "10093566  REGULAR  11893870  13051562        755.0  \n",
       "10093567  REGULAR  11894473  13052475        913.0  "
      ]
     },
     "execution_count": 92,
     "metadata": {},
     "output_type": "execute_result"
    }
   ],
   "source": [
    "#oops we need to change the name from realEntries to actualExits\n",
    "mta.rename(columns={\"realEntries\":\"actualExits\"}, inplace=True)\n",
    "mta.head()"
   ]
  },
  {
   "cell_type": "code",
   "execution_count": 93,
   "metadata": {
    "collapsed": true
   },
   "outputs": [],
   "source": [
    "mta[\"actualEntries\"] = mta[\"ENTRIES\"].diff()"
   ]
  },
  {
   "cell_type": "code",
   "execution_count": 94,
   "metadata": {},
   "outputs": [
    {
     "data": {
      "text/html": [
       "<div>\n",
       "<style>\n",
       "    .dataframe thead tr:only-child th {\n",
       "        text-align: right;\n",
       "    }\n",
       "\n",
       "    .dataframe thead th {\n",
       "        text-align: left;\n",
       "    }\n",
       "\n",
       "    .dataframe tbody tr th {\n",
       "        vertical-align: top;\n",
       "    }\n",
       "</style>\n",
       "<table border=\"1\" class=\"dataframe\">\n",
       "  <thead>\n",
       "    <tr style=\"text-align: right;\">\n",
       "      <th></th>\n",
       "      <th>STATION</th>\n",
       "      <th>CA</th>\n",
       "      <th>UNIT</th>\n",
       "      <th>SCP</th>\n",
       "      <th>LINENAME</th>\n",
       "      <th>DIVISION</th>\n",
       "      <th>DATE</th>\n",
       "      <th>TIME</th>\n",
       "      <th>DESC</th>\n",
       "      <th>ENTRIES</th>\n",
       "      <th>EXITS</th>\n",
       "      <th>actualExits</th>\n",
       "      <th>actualEntries</th>\n",
       "    </tr>\n",
       "  </thead>\n",
       "  <tbody>\n",
       "    <tr>\n",
       "      <th>10093563</th>\n",
       "      <td>1 AV</td>\n",
       "      <td>H007</td>\n",
       "      <td>R248</td>\n",
       "      <td>00-00-00</td>\n",
       "      <td>L</td>\n",
       "      <td>BMT</td>\n",
       "      <td>2016-12-31</td>\n",
       "      <td>03:00:00</td>\n",
       "      <td>REGULAR</td>\n",
       "      <td>11892866</td>\n",
       "      <td>13050144</td>\n",
       "      <td>NaN</td>\n",
       "      <td>NaN</td>\n",
       "    </tr>\n",
       "    <tr>\n",
       "      <th>10093564</th>\n",
       "      <td>1 AV</td>\n",
       "      <td>H007</td>\n",
       "      <td>R248</td>\n",
       "      <td>00-00-00</td>\n",
       "      <td>L</td>\n",
       "      <td>BMT</td>\n",
       "      <td>2016-12-31</td>\n",
       "      <td>07:00:00</td>\n",
       "      <td>REGULAR</td>\n",
       "      <td>11892926</td>\n",
       "      <td>13050308</td>\n",
       "      <td>164.0</td>\n",
       "      <td>60.0</td>\n",
       "    </tr>\n",
       "    <tr>\n",
       "      <th>10093565</th>\n",
       "      <td>1 AV</td>\n",
       "      <td>H007</td>\n",
       "      <td>R248</td>\n",
       "      <td>00-00-00</td>\n",
       "      <td>L</td>\n",
       "      <td>BMT</td>\n",
       "      <td>2016-12-31</td>\n",
       "      <td>11:00:00</td>\n",
       "      <td>REGULAR</td>\n",
       "      <td>11893253</td>\n",
       "      <td>13050807</td>\n",
       "      <td>499.0</td>\n",
       "      <td>327.0</td>\n",
       "    </tr>\n",
       "    <tr>\n",
       "      <th>10093566</th>\n",
       "      <td>1 AV</td>\n",
       "      <td>H007</td>\n",
       "      <td>R248</td>\n",
       "      <td>00-00-00</td>\n",
       "      <td>L</td>\n",
       "      <td>BMT</td>\n",
       "      <td>2016-12-31</td>\n",
       "      <td>15:00:00</td>\n",
       "      <td>REGULAR</td>\n",
       "      <td>11893870</td>\n",
       "      <td>13051562</td>\n",
       "      <td>755.0</td>\n",
       "      <td>617.0</td>\n",
       "    </tr>\n",
       "    <tr>\n",
       "      <th>10093567</th>\n",
       "      <td>1 AV</td>\n",
       "      <td>H007</td>\n",
       "      <td>R248</td>\n",
       "      <td>00-00-00</td>\n",
       "      <td>L</td>\n",
       "      <td>BMT</td>\n",
       "      <td>2016-12-31</td>\n",
       "      <td>19:00:00</td>\n",
       "      <td>REGULAR</td>\n",
       "      <td>11894473</td>\n",
       "      <td>13052475</td>\n",
       "      <td>913.0</td>\n",
       "      <td>603.0</td>\n",
       "    </tr>\n",
       "  </tbody>\n",
       "</table>\n",
       "</div>"
      ],
      "text/plain": [
       "         STATION    CA  UNIT       SCP LINENAME DIVISION       DATE      TIME  \\\n",
       "10093563    1 AV  H007  R248  00-00-00        L      BMT 2016-12-31  03:00:00   \n",
       "10093564    1 AV  H007  R248  00-00-00        L      BMT 2016-12-31  07:00:00   \n",
       "10093565    1 AV  H007  R248  00-00-00        L      BMT 2016-12-31  11:00:00   \n",
       "10093566    1 AV  H007  R248  00-00-00        L      BMT 2016-12-31  15:00:00   \n",
       "10093567    1 AV  H007  R248  00-00-00        L      BMT 2016-12-31  19:00:00   \n",
       "\n",
       "             DESC   ENTRIES     EXITS  actualExits  actualEntries  \n",
       "10093563  REGULAR  11892866  13050144          NaN            NaN  \n",
       "10093564  REGULAR  11892926  13050308        164.0           60.0  \n",
       "10093565  REGULAR  11893253  13050807        499.0          327.0  \n",
       "10093566  REGULAR  11893870  13051562        755.0          617.0  \n",
       "10093567  REGULAR  11894473  13052475        913.0          603.0  "
      ]
     },
     "execution_count": 94,
     "metadata": {},
     "output_type": "execute_result"
    }
   ],
   "source": [
    "mta.head()"
   ]
  },
  {
   "cell_type": "code",
   "execution_count": 95,
   "metadata": {
    "collapsed": true
   },
   "outputs": [],
   "source": [
    "#fill NaN with 0\n",
    "mta.fillna(0, inplace=True)"
   ]
  },
  {
   "cell_type": "code",
   "execution_count": 98,
   "metadata": {},
   "outputs": [
    {
     "data": {
      "text/html": [
       "<div>\n",
       "<style>\n",
       "    .dataframe thead tr:only-child th {\n",
       "        text-align: right;\n",
       "    }\n",
       "\n",
       "    .dataframe thead th {\n",
       "        text-align: left;\n",
       "    }\n",
       "\n",
       "    .dataframe tbody tr th {\n",
       "        vertical-align: top;\n",
       "    }\n",
       "</style>\n",
       "<table border=\"1\" class=\"dataframe\">\n",
       "  <thead>\n",
       "    <tr style=\"text-align: right;\">\n",
       "      <th></th>\n",
       "      <th>STATION</th>\n",
       "      <th>CA</th>\n",
       "      <th>UNIT</th>\n",
       "      <th>SCP</th>\n",
       "      <th>LINENAME</th>\n",
       "      <th>DIVISION</th>\n",
       "      <th>DATE</th>\n",
       "      <th>TIME</th>\n",
       "      <th>DESC</th>\n",
       "      <th>ENTRIES</th>\n",
       "      <th>EXITS</th>\n",
       "      <th>actualExits</th>\n",
       "      <th>actualEntries</th>\n",
       "    </tr>\n",
       "  </thead>\n",
       "  <tbody>\n",
       "    <tr>\n",
       "      <th>10093563</th>\n",
       "      <td>1 AV</td>\n",
       "      <td>H007</td>\n",
       "      <td>R248</td>\n",
       "      <td>00-00-00</td>\n",
       "      <td>L</td>\n",
       "      <td>BMT</td>\n",
       "      <td>2016-12-31</td>\n",
       "      <td>03:00:00</td>\n",
       "      <td>REGULAR</td>\n",
       "      <td>11892866</td>\n",
       "      <td>13050144</td>\n",
       "      <td>0.0</td>\n",
       "      <td>0.0</td>\n",
       "    </tr>\n",
       "    <tr>\n",
       "      <th>10093564</th>\n",
       "      <td>1 AV</td>\n",
       "      <td>H007</td>\n",
       "      <td>R248</td>\n",
       "      <td>00-00-00</td>\n",
       "      <td>L</td>\n",
       "      <td>BMT</td>\n",
       "      <td>2016-12-31</td>\n",
       "      <td>07:00:00</td>\n",
       "      <td>REGULAR</td>\n",
       "      <td>11892926</td>\n",
       "      <td>13050308</td>\n",
       "      <td>164.0</td>\n",
       "      <td>60.0</td>\n",
       "    </tr>\n",
       "    <tr>\n",
       "      <th>10093565</th>\n",
       "      <td>1 AV</td>\n",
       "      <td>H007</td>\n",
       "      <td>R248</td>\n",
       "      <td>00-00-00</td>\n",
       "      <td>L</td>\n",
       "      <td>BMT</td>\n",
       "      <td>2016-12-31</td>\n",
       "      <td>11:00:00</td>\n",
       "      <td>REGULAR</td>\n",
       "      <td>11893253</td>\n",
       "      <td>13050807</td>\n",
       "      <td>499.0</td>\n",
       "      <td>327.0</td>\n",
       "    </tr>\n",
       "    <tr>\n",
       "      <th>10093566</th>\n",
       "      <td>1 AV</td>\n",
       "      <td>H007</td>\n",
       "      <td>R248</td>\n",
       "      <td>00-00-00</td>\n",
       "      <td>L</td>\n",
       "      <td>BMT</td>\n",
       "      <td>2016-12-31</td>\n",
       "      <td>15:00:00</td>\n",
       "      <td>REGULAR</td>\n",
       "      <td>11893870</td>\n",
       "      <td>13051562</td>\n",
       "      <td>755.0</td>\n",
       "      <td>617.0</td>\n",
       "    </tr>\n",
       "    <tr>\n",
       "      <th>10093567</th>\n",
       "      <td>1 AV</td>\n",
       "      <td>H007</td>\n",
       "      <td>R248</td>\n",
       "      <td>00-00-00</td>\n",
       "      <td>L</td>\n",
       "      <td>BMT</td>\n",
       "      <td>2016-12-31</td>\n",
       "      <td>19:00:00</td>\n",
       "      <td>REGULAR</td>\n",
       "      <td>11894473</td>\n",
       "      <td>13052475</td>\n",
       "      <td>913.0</td>\n",
       "      <td>603.0</td>\n",
       "    </tr>\n",
       "  </tbody>\n",
       "</table>\n",
       "</div>"
      ],
      "text/plain": [
       "         STATION    CA  UNIT       SCP LINENAME DIVISION       DATE      TIME  \\\n",
       "10093563    1 AV  H007  R248  00-00-00        L      BMT 2016-12-31  03:00:00   \n",
       "10093564    1 AV  H007  R248  00-00-00        L      BMT 2016-12-31  07:00:00   \n",
       "10093565    1 AV  H007  R248  00-00-00        L      BMT 2016-12-31  11:00:00   \n",
       "10093566    1 AV  H007  R248  00-00-00        L      BMT 2016-12-31  15:00:00   \n",
       "10093567    1 AV  H007  R248  00-00-00        L      BMT 2016-12-31  19:00:00   \n",
       "\n",
       "             DESC   ENTRIES     EXITS  actualExits  actualEntries  \n",
       "10093563  REGULAR  11892866  13050144          0.0            0.0  \n",
       "10093564  REGULAR  11892926  13050308        164.0           60.0  \n",
       "10093565  REGULAR  11893253  13050807        499.0          327.0  \n",
       "10093566  REGULAR  11893870  13051562        755.0          617.0  \n",
       "10093567  REGULAR  11894473  13052475        913.0          603.0  "
      ]
     },
     "execution_count": 98,
     "metadata": {},
     "output_type": "execute_result"
    }
   ],
   "source": [
    "mta.head()"
   ]
  },
  {
   "cell_type": "code",
   "execution_count": 97,
   "metadata": {
    "scrolled": true
   },
   "outputs": [
    {
     "name": "stdout",
     "output_type": "stream",
     "text": [
      "<class 'pandas.core.frame.DataFrame'>\n",
      "Int64Index: 10239238 entries, 10093563 to 173643\n",
      "Data columns (total 13 columns):\n",
      "STATION          object\n",
      "CA               object\n",
      "UNIT             object\n",
      "SCP              object\n",
      "LINENAME         object\n",
      "DIVISION         object\n",
      "DATE             datetime64[ns]\n",
      "TIME             object\n",
      "DESC             object\n",
      "ENTRIES          int64\n",
      "EXITS            int64\n",
      "actualExits      float64\n",
      "actualEntries    float64\n",
      "dtypes: datetime64[ns](1), float64(2), int64(2), object(8)\n",
      "memory usage: 1.4+ GB\n"
     ]
    }
   ],
   "source": [
    "mta.info()"
   ]
  },
  {
   "cell_type": "markdown",
   "metadata": {},
   "source": [
    "Ohhh the two new columns are now float. So let's get them into int."
   ]
  },
  {
   "cell_type": "code",
   "execution_count": 103,
   "metadata": {},
   "outputs": [],
   "source": [
    "mta[\"actualEntries\"] = mta[\"actualEntries\"].astype(int)"
   ]
  },
  {
   "cell_type": "code",
   "execution_count": 105,
   "metadata": {},
   "outputs": [],
   "source": [
    "mta[\"actualExits\"] = mta[\"actualExits\"].astype(int)"
   ]
  },
  {
   "cell_type": "code",
   "execution_count": 106,
   "metadata": {
    "scrolled": true
   },
   "outputs": [
    {
     "data": {
      "text/html": [
       "<div>\n",
       "<style>\n",
       "    .dataframe thead tr:only-child th {\n",
       "        text-align: right;\n",
       "    }\n",
       "\n",
       "    .dataframe thead th {\n",
       "        text-align: left;\n",
       "    }\n",
       "\n",
       "    .dataframe tbody tr th {\n",
       "        vertical-align: top;\n",
       "    }\n",
       "</style>\n",
       "<table border=\"1\" class=\"dataframe\">\n",
       "  <thead>\n",
       "    <tr style=\"text-align: right;\">\n",
       "      <th></th>\n",
       "      <th>STATION</th>\n",
       "      <th>CA</th>\n",
       "      <th>UNIT</th>\n",
       "      <th>SCP</th>\n",
       "      <th>LINENAME</th>\n",
       "      <th>DIVISION</th>\n",
       "      <th>DATE</th>\n",
       "      <th>TIME</th>\n",
       "      <th>DESC</th>\n",
       "      <th>ENTRIES</th>\n",
       "      <th>EXITS</th>\n",
       "      <th>actualExits</th>\n",
       "      <th>actualEntries</th>\n",
       "    </tr>\n",
       "  </thead>\n",
       "  <tbody>\n",
       "    <tr>\n",
       "      <th>10093563</th>\n",
       "      <td>1 AV</td>\n",
       "      <td>H007</td>\n",
       "      <td>R248</td>\n",
       "      <td>00-00-00</td>\n",
       "      <td>L</td>\n",
       "      <td>BMT</td>\n",
       "      <td>2016-12-31</td>\n",
       "      <td>03:00:00</td>\n",
       "      <td>REGULAR</td>\n",
       "      <td>11892866</td>\n",
       "      <td>13050144</td>\n",
       "      <td>0</td>\n",
       "      <td>0</td>\n",
       "    </tr>\n",
       "    <tr>\n",
       "      <th>10093564</th>\n",
       "      <td>1 AV</td>\n",
       "      <td>H007</td>\n",
       "      <td>R248</td>\n",
       "      <td>00-00-00</td>\n",
       "      <td>L</td>\n",
       "      <td>BMT</td>\n",
       "      <td>2016-12-31</td>\n",
       "      <td>07:00:00</td>\n",
       "      <td>REGULAR</td>\n",
       "      <td>11892926</td>\n",
       "      <td>13050308</td>\n",
       "      <td>164</td>\n",
       "      <td>60</td>\n",
       "    </tr>\n",
       "    <tr>\n",
       "      <th>10093565</th>\n",
       "      <td>1 AV</td>\n",
       "      <td>H007</td>\n",
       "      <td>R248</td>\n",
       "      <td>00-00-00</td>\n",
       "      <td>L</td>\n",
       "      <td>BMT</td>\n",
       "      <td>2016-12-31</td>\n",
       "      <td>11:00:00</td>\n",
       "      <td>REGULAR</td>\n",
       "      <td>11893253</td>\n",
       "      <td>13050807</td>\n",
       "      <td>499</td>\n",
       "      <td>327</td>\n",
       "    </tr>\n",
       "    <tr>\n",
       "      <th>10093566</th>\n",
       "      <td>1 AV</td>\n",
       "      <td>H007</td>\n",
       "      <td>R248</td>\n",
       "      <td>00-00-00</td>\n",
       "      <td>L</td>\n",
       "      <td>BMT</td>\n",
       "      <td>2016-12-31</td>\n",
       "      <td>15:00:00</td>\n",
       "      <td>REGULAR</td>\n",
       "      <td>11893870</td>\n",
       "      <td>13051562</td>\n",
       "      <td>755</td>\n",
       "      <td>617</td>\n",
       "    </tr>\n",
       "    <tr>\n",
       "      <th>10093567</th>\n",
       "      <td>1 AV</td>\n",
       "      <td>H007</td>\n",
       "      <td>R248</td>\n",
       "      <td>00-00-00</td>\n",
       "      <td>L</td>\n",
       "      <td>BMT</td>\n",
       "      <td>2016-12-31</td>\n",
       "      <td>19:00:00</td>\n",
       "      <td>REGULAR</td>\n",
       "      <td>11894473</td>\n",
       "      <td>13052475</td>\n",
       "      <td>913</td>\n",
       "      <td>603</td>\n",
       "    </tr>\n",
       "  </tbody>\n",
       "</table>\n",
       "</div>"
      ],
      "text/plain": [
       "         STATION    CA  UNIT       SCP LINENAME DIVISION       DATE      TIME  \\\n",
       "10093563    1 AV  H007  R248  00-00-00        L      BMT 2016-12-31  03:00:00   \n",
       "10093564    1 AV  H007  R248  00-00-00        L      BMT 2016-12-31  07:00:00   \n",
       "10093565    1 AV  H007  R248  00-00-00        L      BMT 2016-12-31  11:00:00   \n",
       "10093566    1 AV  H007  R248  00-00-00        L      BMT 2016-12-31  15:00:00   \n",
       "10093567    1 AV  H007  R248  00-00-00        L      BMT 2016-12-31  19:00:00   \n",
       "\n",
       "             DESC   ENTRIES     EXITS  actualExits  actualEntries  \n",
       "10093563  REGULAR  11892866  13050144            0              0  \n",
       "10093564  REGULAR  11892926  13050308          164             60  \n",
       "10093565  REGULAR  11893253  13050807          499            327  \n",
       "10093566  REGULAR  11893870  13051562          755            617  \n",
       "10093567  REGULAR  11894473  13052475          913            603  "
      ]
     },
     "execution_count": 106,
     "metadata": {},
     "output_type": "execute_result"
    }
   ],
   "source": [
    "mta.head()"
   ]
  },
  {
   "cell_type": "markdown",
   "metadata": {},
   "source": [
    "There is one more thing...\n",
    "Since the turnstile entry/exit numbers never reset to 0, we would have some negative values in the actualEntries and actualExits column."
   ]
  },
  {
   "cell_type": "code",
   "execution_count": 108,
   "metadata": {},
   "outputs": [
    {
     "data": {
      "text/plain": [
       "False    10155124\n",
       "True        84114\n",
       "Name: actualEntries, dtype: int64"
      ]
     },
     "execution_count": 108,
     "metadata": {},
     "output_type": "execute_result"
    }
   ],
   "source": [
    "(mta[\"actualEntries\"] < 0).value_counts()"
   ]
  },
  {
   "cell_type": "code",
   "execution_count": 109,
   "metadata": {},
   "outputs": [
    {
     "data": {
      "text/plain": [
       "False    10170856\n",
       "True        68382\n",
       "Name: actualExits, dtype: int64"
      ]
     },
     "execution_count": 109,
     "metadata": {},
     "output_type": "execute_result"
    }
   ],
   "source": [
    "(mta[\"actualExits\"] < 0).value_counts()"
   ]
  },
  {
   "cell_type": "markdown",
   "metadata": {},
   "source": [
    "We will have to convert these negative values to 0 so as to get the maximum possible correct numbers of actual entries and exits. Unfortunately, there is no other way to find the real numbers when the counter on the turnstile resets."
   ]
  },
  {
   "cell_type": "code",
   "execution_count": 132,
   "metadata": {},
   "outputs": [],
   "source": [
    "mta.loc[(mta[mta[\"actualEntries\"] < 0]).index, \"actualEntries\"] = 0"
   ]
  },
  {
   "cell_type": "code",
   "execution_count": 134,
   "metadata": {},
   "outputs": [],
   "source": [
    "mta.loc[(mta[mta[\"actualExits\"] < 0]).index, \"actualExits\"] = 0"
   ]
  },
  {
   "cell_type": "markdown",
   "metadata": {},
   "source": [
    "## Finally the dataset is ready :)\n",
    "### Let's answer a few questions now"
   ]
  },
  {
   "cell_type": "markdown",
   "metadata": {},
   "source": [
    "## Which station has the most number of units?"
   ]
  },
  {
   "cell_type": "code",
   "execution_count": 136,
   "metadata": {
    "scrolled": true
   },
   "outputs": [
    {
     "data": {
      "text/plain": [
       "STATION\n",
       "23 ST              6\n",
       "86 ST              5\n",
       "CANAL ST           5\n",
       "GRD CNTRL-42 ST    4\n",
       "125 ST             4\n",
       "34 ST-PENN STA     4\n",
       "FULTON ST          3\n",
       "96 ST              3\n",
       "PROSPECT AV        3\n",
       "18 AV              3\n",
       "Name: UNIT, dtype: int64"
      ]
     },
     "execution_count": 136,
     "metadata": {},
     "output_type": "execute_result"
    }
   ],
   "source": [
    "mta.groupby(\"STATION\").UNIT.nunique().sort_values(ascending=False)[:10]"
   ]
  },
  {
   "cell_type": "markdown",
   "metadata": {},
   "source": [
    "## What is the total number of entries & exits across the subway system for August 1, 2017?"
   ]
  },
  {
   "cell_type": "code",
   "execution_count": 137,
   "metadata": {},
   "outputs": [
    {
     "data": {
      "text/plain": [
       "72729379"
      ]
     },
     "execution_count": 137,
     "metadata": {},
     "output_type": "execute_result"
    }
   ],
   "source": [
    "mta[mta[\"DATE\"] == \"2017-08-01\"].actualEntries.sum()"
   ]
  },
  {
   "cell_type": "code",
   "execution_count": 138,
   "metadata": {},
   "outputs": [
    {
     "data": {
      "text/plain": [
       "4364669"
      ]
     },
     "execution_count": 138,
     "metadata": {},
     "output_type": "execute_result"
    }
   ],
   "source": [
    "mta[mta[\"DATE\"] == \"2017-08-01\"].actualExits.sum()"
   ]
  },
  {
   "cell_type": "markdown",
   "metadata": {},
   "source": [
    "## What station was the busiest on July 4, 2017? What turnstile was the busiest on that date?"
   ]
  },
  {
   "cell_type": "code",
   "execution_count": 139,
   "metadata": {},
   "outputs": [],
   "source": [
    "mta[\"Busyness\"] = mta[\"actualEntries\"] + mta[\"actualExits\"]"
   ]
  },
  {
   "cell_type": "code",
   "execution_count": 149,
   "metadata": {},
   "outputs": [
    {
     "data": {
      "text/html": [
       "<div>\n",
       "<style>\n",
       "    .dataframe thead tr:only-child th {\n",
       "        text-align: right;\n",
       "    }\n",
       "\n",
       "    .dataframe thead th {\n",
       "        text-align: left;\n",
       "    }\n",
       "\n",
       "    .dataframe tbody tr th {\n",
       "        vertical-align: top;\n",
       "    }\n",
       "</style>\n",
       "<table border=\"1\" class=\"dataframe\">\n",
       "  <thead>\n",
       "    <tr style=\"text-align: right;\">\n",
       "      <th></th>\n",
       "      <th>STATION</th>\n",
       "      <th>CA</th>\n",
       "      <th>UNIT</th>\n",
       "      <th>SCP</th>\n",
       "      <th>LINENAME</th>\n",
       "      <th>DIVISION</th>\n",
       "      <th>DATE</th>\n",
       "      <th>TIME</th>\n",
       "      <th>DESC</th>\n",
       "      <th>ENTRIES</th>\n",
       "      <th>EXITS</th>\n",
       "      <th>actualExits</th>\n",
       "      <th>actualEntries</th>\n",
       "      <th>Busyness</th>\n",
       "    </tr>\n",
       "  </thead>\n",
       "  <tbody>\n",
       "    <tr>\n",
       "      <th>4983598</th>\n",
       "      <td>1 AV</td>\n",
       "      <td>H007</td>\n",
       "      <td>R248</td>\n",
       "      <td>00-00-00</td>\n",
       "      <td>L</td>\n",
       "      <td>BMT</td>\n",
       "      <td>2017-07-04</td>\n",
       "      <td>00:00:00</td>\n",
       "      <td>REGULAR</td>\n",
       "      <td>12486632</td>\n",
       "      <td>13796828</td>\n",
       "      <td>582</td>\n",
       "      <td>285</td>\n",
       "      <td>867</td>\n",
       "    </tr>\n",
       "    <tr>\n",
       "      <th>4983599</th>\n",
       "      <td>1 AV</td>\n",
       "      <td>H007</td>\n",
       "      <td>R248</td>\n",
       "      <td>00-00-00</td>\n",
       "      <td>L</td>\n",
       "      <td>BMT</td>\n",
       "      <td>2017-07-04</td>\n",
       "      <td>04:00:00</td>\n",
       "      <td>REGULAR</td>\n",
       "      <td>12486686</td>\n",
       "      <td>13796995</td>\n",
       "      <td>167</td>\n",
       "      <td>54</td>\n",
       "      <td>221</td>\n",
       "    </tr>\n",
       "    <tr>\n",
       "      <th>4983600</th>\n",
       "      <td>1 AV</td>\n",
       "      <td>H007</td>\n",
       "      <td>R248</td>\n",
       "      <td>00-00-00</td>\n",
       "      <td>L</td>\n",
       "      <td>BMT</td>\n",
       "      <td>2017-07-04</td>\n",
       "      <td>08:00:00</td>\n",
       "      <td>REGULAR</td>\n",
       "      <td>12486740</td>\n",
       "      <td>13797218</td>\n",
       "      <td>223</td>\n",
       "      <td>54</td>\n",
       "      <td>277</td>\n",
       "    </tr>\n",
       "    <tr>\n",
       "      <th>4983601</th>\n",
       "      <td>1 AV</td>\n",
       "      <td>H007</td>\n",
       "      <td>R248</td>\n",
       "      <td>00-00-00</td>\n",
       "      <td>L</td>\n",
       "      <td>BMT</td>\n",
       "      <td>2017-07-04</td>\n",
       "      <td>12:00:00</td>\n",
       "      <td>REGULAR</td>\n",
       "      <td>12487082</td>\n",
       "      <td>13797599</td>\n",
       "      <td>381</td>\n",
       "      <td>342</td>\n",
       "      <td>723</td>\n",
       "    </tr>\n",
       "    <tr>\n",
       "      <th>4983602</th>\n",
       "      <td>1 AV</td>\n",
       "      <td>H007</td>\n",
       "      <td>R248</td>\n",
       "      <td>00-00-00</td>\n",
       "      <td>L</td>\n",
       "      <td>BMT</td>\n",
       "      <td>2017-07-04</td>\n",
       "      <td>16:00:00</td>\n",
       "      <td>REGULAR</td>\n",
       "      <td>12487574</td>\n",
       "      <td>13798270</td>\n",
       "      <td>671</td>\n",
       "      <td>492</td>\n",
       "      <td>1163</td>\n",
       "    </tr>\n",
       "  </tbody>\n",
       "</table>\n",
       "</div>"
      ],
      "text/plain": [
       "        STATION    CA  UNIT       SCP LINENAME DIVISION       DATE      TIME  \\\n",
       "4983598    1 AV  H007  R248  00-00-00        L      BMT 2017-07-04  00:00:00   \n",
       "4983599    1 AV  H007  R248  00-00-00        L      BMT 2017-07-04  04:00:00   \n",
       "4983600    1 AV  H007  R248  00-00-00        L      BMT 2017-07-04  08:00:00   \n",
       "4983601    1 AV  H007  R248  00-00-00        L      BMT 2017-07-04  12:00:00   \n",
       "4983602    1 AV  H007  R248  00-00-00        L      BMT 2017-07-04  16:00:00   \n",
       "\n",
       "            DESC   ENTRIES     EXITS  actualExits  actualEntries  Busyness  \n",
       "4983598  REGULAR  12486632  13796828          582            285       867  \n",
       "4983599  REGULAR  12486686  13796995          167             54       221  \n",
       "4983600  REGULAR  12486740  13797218          223             54       277  \n",
       "4983601  REGULAR  12487082  13797599          381            342       723  \n",
       "4983602  REGULAR  12487574  13798270          671            492      1163  "
      ]
     },
     "execution_count": 149,
     "metadata": {},
     "output_type": "execute_result"
    }
   ],
   "source": [
    "mta[mta[\"DATE\"]==\"2017-07-04\"].head()"
   ]
  },
  {
   "cell_type": "code",
   "execution_count": 151,
   "metadata": {},
   "outputs": [
    {
     "data": {
      "text/plain": [
       "STATION\n",
       "DITMAS AV          16320926\n",
       "34 ST-PENN STA       127368\n",
       "34 ST-HERALD SQ      112015\n",
       "GRD CNTRL-42 ST       99586\n",
       "TIMES SQ-42 ST        95084\n",
       "14 ST-UNION SQ        90588\n",
       "42 ST-PORT AUTH       88024\n",
       "86 ST                 75420\n",
       "125 ST                74078\n",
       "FULTON ST             72663\n",
       "Name: Busyness, dtype: int64"
      ]
     },
     "execution_count": 151,
     "metadata": {},
     "output_type": "execute_result"
    }
   ],
   "source": [
    "mta[mta[\"DATE\"] == \"2017-07-04\"].groupby(\"STATION\").Busyness.sum().sort_values(ascending=False)[:10]"
   ]
  },
  {
   "cell_type": "markdown",
   "metadata": {},
   "source": [
    "So Ditmas Av station was the busiest one on Independance Day in 2017."
   ]
  },
  {
   "cell_type": "code",
   "execution_count": 157,
   "metadata": {},
   "outputs": [
    {
     "data": {
      "text/plain": [
       "UNIT  SCP     \n",
       "R420  01-06-01    16317812\n",
       "      00-00-02        1009\n",
       "      00-00-00         986\n",
       "      00-00-01         578\n",
       "      01-06-02         309\n",
       "      01-06-00         230\n",
       "      01-04-00           2\n",
       "      01-04-01           0\n",
       "Name: Busyness, dtype: int64"
      ]
     },
     "execution_count": 157,
     "metadata": {},
     "output_type": "execute_result"
    }
   ],
   "source": [
    "mta[(mta[\"DATE\"] == \"2017-07-04\") & (mta[\"STATION\"] == \"DITMAS AV\")].groupby([\"UNIT\",\"SCP\"]).Busyness.sum().sort_values(ascending=False)"
   ]
  },
  {
   "cell_type": "markdown",
   "metadata": {},
   "source": [
    "**Turnstile _01-06-01_ was the busiest at Ditmas Av station of 4th of July.**"
   ]
  },
  {
   "cell_type": "code",
   "execution_count": null,
   "metadata": {
    "collapsed": true
   },
   "outputs": [],
   "source": []
  }
 ],
 "metadata": {
  "kernelspec": {
   "display_name": "Python 3",
   "language": "python",
   "name": "python3"
  },
  "language_info": {
   "codemirror_mode": {
    "name": "ipython",
    "version": 3
   },
   "file_extension": ".py",
   "mimetype": "text/x-python",
   "name": "python",
   "nbconvert_exporter": "python",
   "pygments_lexer": "ipython3",
   "version": "3.6.3"
  }
 },
 "nbformat": 4,
 "nbformat_minor": 2
}
